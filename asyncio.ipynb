{
 "cells": [
  {
   "cell_type": "markdown",
   "metadata": {},
   "source": [
    "# Programación asincrónica en Python\n",
    "\n",
    "La *programación asincrónica* es una forma de organizar las llamadas a los métodos de una aplicación, de forma tal que aquellos métodos que están esperando por una operación que no requiere procesamiento (escribir en un archivo, conectarse a una base de datos, recibir datos de una página web) no bloquean a los demás métodos que pueden ser ejecutados.\n",
    "\n",
    "Python empieza a introducir las primeras nociones de programación asincrónica en su versión 3.4 (Marzo 2014) con la introducción del módulo [asyncio](https://docs.python.org/3.4/library/asyncio.html). En su siguiente versión (3.5, Septiembre 2015), se simplificó la sintaxis para definir corutinas (la base de la programación asincrónica en Python). Al momento esta notación continúa siendo revisada y podría sufrir algunos cambios a futuro.\n",
    "\n",
    "** Requisitos para ejecutar este notebook **\n",
    "* Python 3.5"
   ]
  },
  {
   "cell_type": "markdown",
   "metadata": {},
   "source": [
    "## Evolución de la programación asicrónica en Python\n",
    "\n",
    "El siguiente video y su correspondiente [documento](http://aosabook.org/en/500L/a-web-crawler-with-asyncio-coroutines.html), muestran cómo fue evolucionando la sintaxis de programación asincrónica en Python, mediante un simple ejemplo explicado nada menos que por Guido Van Rossum y Jesse Jiryu Davis (MongoDB). Es una buena forma de entender qué problemas intenta resolver la programación asincrónica, recomiendo su lectura y visur... visualización :) (es sábado a la mañana, sepan disculpar)"
   ]
  },
  {
   "cell_type": "code",
   "execution_count": null,
   "metadata": {
    "collapsed": false
   },
   "outputs": [],
   "source": [
    "from IPython.display import YouTubeVideo\n",
    "YouTubeVideo(\"7sCu4gEjH5I\")"
   ]
  },
  {
   "cell_type": "markdown",
   "metadata": {},
   "source": [
    "### Conceptos básicos (extraídos del video)\n",
    "\n",
    "Definiciones básicas de la programación asincrónica que simplificarán su entendimiento:\n",
    "\n",
    "* *non-blocking method*: método que retorna \"inmediatamente\" (al contexto que lo invocó) sin haber finalizado la ejecución de su código y luego avisa (mediante un evento) cuando esta ha finalizado.\n",
    "* *callback*: función que se asocia a un evento, para ser ejecutada al momento que este se produce.\n",
    "* *event loop*: loop que detecta los eventos y ejecuta los callback asociados.\n",
    "\n",
    "Con los tres conceptos anteriores (más alguna forma de definir y detectar los eventos que queremos que ejecuten los callbacks) ya podíamos hacer programación asincrónica en Python.\n",
    "\n",
    "Como se podrá ver en le video trabajar con esos conceptos produce una sintaxis bastante desordenada, por eso se introduce el concepto de *corutina* (coroutine). Una corutina es una subrutina que puede pausarse a sí misma (por ejemplo al momento de requerir una operación de IO) y posteriormente ser reanudada (desde ese mismo punto). Esto permite a las corutinas coordinarse entre sí para no bloquearse al momento de realizar operaciones de IO.\n",
    "\n",
    "En Python las corutinas se implementan usando *generators*, por lo que es conveniente saber cómo estos funcionan, para entender cómo las corutinas delegan el control a la función que las invocó.\n",
    "\n",
    "Más conceptos que se añaden con corutinas:\n",
    "* *Future*: representa a un resultado pendiente que será obtenido cuando se produzca un evento por el cuál estamos esperando. Almacena los callbacks que serán ejecutados cuando este evento suceda.\n",
    "* *Task*: objeto que organiza la ejecución de una coroutine. \n",
    "\n",
    "Hint: Task es subclase de Future."
   ]
  },
  {
   "cell_type": "markdown",
   "metadata": {
    "collapsed": true
   },
   "source": [
    "## Ventajas sobre threads\n",
    "Estas son algunas ventajas de las corutinas sobre los threads\n",
    "\n",
    "* Consumen menos memoria\n",
    "* No están limitadas por por configuraciones del usuario o el SO\n",
    "* A diferencia de los threads, permiten indicar en que partes de su ejecución prodrán ser interrumpidas.\n",
    "* Generan un stacktrace más simple y claro de entender."
   ]
  },
  {
   "cell_type": "markdown",
   "metadata": {
    "collapsed": true
   },
   "source": [
    "## Ejemplo Simple\n",
    "\n",
    "A continuación voy a mostrar un ejemplo simple de la notación para definir corutinas en Python."
   ]
  },
  {
   "cell_type": "code",
   "execution_count": 1,
   "metadata": {
    "collapsed": true
   },
   "outputs": [],
   "source": [
    "import asyncio"
   ]
  },
  {
   "cell_type": "markdown",
   "metadata": {},
   "source": [
    "En Python 3.5 se agrega la sintaxis de *async* y *await* para definir corutinas (ver [PEP-492](https://www.python.org/dev/peps/pep-0492/))"
   ]
  },
  {
   "cell_type": "code",
   "execution_count": 15,
   "metadata": {
    "collapsed": true
   },
   "outputs": [],
   "source": [
    "async def my_coroutine(task_name, seconds_to_sleep=3):\n",
    "    print('{0} sleeping for: {1} seconds'.format(task_name, seconds_to_sleep))\n",
    "    await asyncio.sleep(seconds_to_sleep)\n",
    "    print('{0} is finished'.format(task_name))"
   ]
  },
  {
   "cell_type": "markdown",
   "metadata": {},
   "source": [
    "En este caso, estamos definiendo que la corutina *my_coroutine* (con el statement *async*), que pausará su ejecución cuando se alcance el comando *await*. Las corutinas no son métodos comunes, por ejemplo al invocarlas no se ejecuta su código sino que se obtiene un objeto corutina."
   ]
  },
  {
   "cell_type": "code",
   "execution_count": 21,
   "metadata": {
    "collapsed": false
   },
   "outputs": [
    {
     "name": "stderr",
     "output_type": "stream",
     "text": [
      "/home/santiago/miniconda3/envs/python3.5/lib/python3.5/site-packages/ipykernel/__main__.py:1: RuntimeWarning: coroutine 'my_coroutine' was never awaited\n",
      "  if __name__ == '__main__':\n"
     ]
    },
    {
     "data": {
      "text/plain": [
       "<coroutine object my_coroutine at 0x7f799039dca8>"
      ]
     },
     "execution_count": 21,
     "metadata": {},
     "output_type": "execute_result"
    }
   ],
   "source": [
    "c = my_coroutine(\"corrutina_ejemplo\")\n",
    "c"
   ]
  },
  {
   "cell_type": "markdown",
   "metadata": {},
   "source": [
    "Podemos crear varias de estas corrutinas y ejecutarlas en paralelo usando un *event loop*."
   ]
  },
  {
   "cell_type": "code",
   "execution_count": 22,
   "metadata": {
    "collapsed": false
   },
   "outputs": [],
   "source": [
    "def run_tasks():\n",
    "    loop = asyncio.get_event_loop()\n",
    "    tasks = [\n",
    "        my_coroutine('task1', 1),\n",
    "        my_coroutine('task2', 1),\n",
    "        my_coroutine('task3', 1)]\n",
    "    loop.run_until_complete(asyncio.wait(tasks))\n",
    "    # loop.close()"
   ]
  },
  {
   "cell_type": "code",
   "execution_count": 17,
   "metadata": {
    "collapsed": false
   },
   "outputs": [
    {
     "name": "stdout",
     "output_type": "stream",
     "text": [
      "task2 sleeping for: 1 seconds\n",
      "task3 sleeping for: 1 seconds\n",
      "task1 sleeping for: 1 seconds\n",
      "task2 is finished\n",
      "task3 is finished\n",
      "task1 is finished\n",
      "1 loops, best of 1: 1 s per loop\n"
     ]
    }
   ],
   "source": [
    "%timeit -n1 -r1 run_tasks()"
   ]
  },
  {
   "cell_type": "markdown",
   "metadata": {},
   "source": [
    "Como se ve, el tiempo total de ejecución de las tareas es 1 segundo (las tareas se ejecutan en paralelo)."
   ]
  },
  {
   "cell_type": "markdown",
   "metadata": {},
   "source": [
    "Si estamos trabajando con Python 3.4 la corutina se define con la anotación *@asyncio.coroutine* (en lugar de *async*) y *yield from* (en lugar de *await*)"
   ]
  },
  {
   "cell_type": "code",
   "execution_count": 23,
   "metadata": {
    "collapsed": true
   },
   "outputs": [],
   "source": [
    "@asyncio.coroutine\n",
    "def my_coroutine_3_4(task_name, seconds_to_sleep=3):\n",
    "    print('{0} sleeping for: {1} seconds'.format(task_name, seconds_to_sleep))\n",
    "    yield from asyncio.sleep(seconds_to_sleep)\n",
    "    print('{0} is finished'.format(task_name))"
   ]
  },
  {
   "cell_type": "code",
   "execution_count": null,
   "metadata": {
    "collapsed": true
   },
   "outputs": [],
   "source": []
  }
 ],
 "metadata": {
  "kernelspec": {
   "display_name": "Python 3",
   "language": "python",
   "name": "python3"
  },
  "language_info": {
   "codemirror_mode": {
    "name": "ipython",
    "version": 3
   },
   "file_extension": ".py",
   "mimetype": "text/x-python",
   "name": "python",
   "nbconvert_exporter": "python",
   "pygments_lexer": "ipython3",
   "version": "3.5.1"
  }
 },
 "nbformat": 4,
 "nbformat_minor": 0
}
